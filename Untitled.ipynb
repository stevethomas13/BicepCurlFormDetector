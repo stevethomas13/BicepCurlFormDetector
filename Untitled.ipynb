{
 "cells": [
  {
   "cell_type": "code",
   "execution_count": 1,
   "id": "2296e267",
   "metadata": {
    "scrolled": true
   },
   "outputs": [
    {
     "name": "stdout",
     "output_type": "stream",
     "text": [
      "Requirement already satisfied: mediapipe in /Users/steve/anaconda3/lib/python3.10/site-packages (0.10.1)\n",
      "Requirement already satisfied: opencv-python in /Users/steve/anaconda3/lib/python3.10/site-packages (4.8.0.74)\n",
      "Requirement already satisfied: opencv-contrib-python in /Users/steve/anaconda3/lib/python3.10/site-packages (from mediapipe) (4.8.0.74)\n",
      "Requirement already satisfied: sounddevice>=0.4.4 in /Users/steve/anaconda3/lib/python3.10/site-packages (from mediapipe) (0.4.6)\n",
      "Requirement already satisfied: matplotlib in /Users/steve/anaconda3/lib/python3.10/site-packages (from mediapipe) (3.7.0)\n",
      "Requirement already satisfied: flatbuffers>=2.0 in /Users/steve/anaconda3/lib/python3.10/site-packages (from mediapipe) (23.5.26)\n",
      "Requirement already satisfied: numpy in /Users/steve/anaconda3/lib/python3.10/site-packages (from mediapipe) (1.23.5)\n",
      "Requirement already satisfied: protobuf<4,>=3.11 in /Users/steve/anaconda3/lib/python3.10/site-packages (from mediapipe) (3.20.3)\n",
      "Requirement already satisfied: absl-py in /Users/steve/anaconda3/lib/python3.10/site-packages (from mediapipe) (1.4.0)\n",
      "Requirement already satisfied: attrs>=19.1.0 in /Users/steve/anaconda3/lib/python3.10/site-packages (from mediapipe) (22.1.0)\n",
      "Requirement already satisfied: CFFI>=1.0 in /Users/steve/anaconda3/lib/python3.10/site-packages (from sounddevice>=0.4.4->mediapipe) (1.15.1)\n",
      "Requirement already satisfied: contourpy>=1.0.1 in /Users/steve/anaconda3/lib/python3.10/site-packages (from matplotlib->mediapipe) (1.0.5)\n",
      "Requirement already satisfied: pillow>=6.2.0 in /Users/steve/anaconda3/lib/python3.10/site-packages (from matplotlib->mediapipe) (9.4.0)\n",
      "Requirement already satisfied: cycler>=0.10 in /Users/steve/anaconda3/lib/python3.10/site-packages (from matplotlib->mediapipe) (0.11.0)\n",
      "Requirement already satisfied: python-dateutil>=2.7 in /Users/steve/anaconda3/lib/python3.10/site-packages (from matplotlib->mediapipe) (2.8.2)\n",
      "Requirement already satisfied: fonttools>=4.22.0 in /Users/steve/anaconda3/lib/python3.10/site-packages (from matplotlib->mediapipe) (4.25.0)\n",
      "Requirement already satisfied: packaging>=20.0 in /Users/steve/anaconda3/lib/python3.10/site-packages (from matplotlib->mediapipe) (22.0)\n",
      "Requirement already satisfied: pyparsing>=2.3.1 in /Users/steve/anaconda3/lib/python3.10/site-packages (from matplotlib->mediapipe) (3.0.9)\n",
      "Requirement already satisfied: kiwisolver>=1.0.1 in /Users/steve/anaconda3/lib/python3.10/site-packages (from matplotlib->mediapipe) (1.4.4)\n",
      "Requirement already satisfied: pycparser in /Users/steve/anaconda3/lib/python3.10/site-packages (from CFFI>=1.0->sounddevice>=0.4.4->mediapipe) (2.21)\n",
      "Requirement already satisfied: six>=1.5 in /Users/steve/anaconda3/lib/python3.10/site-packages (from python-dateutil>=2.7->matplotlib->mediapipe) (1.16.0)\n"
     ]
    }
   ],
   "source": [
    "!pip install mediapipe opencv-python"
   ]
  },
  {
   "cell_type": "code",
   "execution_count": 2,
   "id": "e64b3ca5",
   "metadata": {},
   "outputs": [],
   "source": [
    "import cv2\n",
    "import numpy as np\n",
    "import mediapipe as mp\n",
    "mp_drawing = mp.solutions.drawing_utils\n",
    "mp_pose = mp.solutions.pose"
   ]
  },
  {
   "cell_type": "code",
   "execution_count": 3,
   "id": "c67cd003",
   "metadata": {},
   "outputs": [],
   "source": [
    "def calculate_angles(a,b,c):\n",
    "    a = np.array(a)\n",
    "    b = np.array(b)\n",
    "    c = np.array(c)\n",
    "    \n",
    "    rad = np.arctan2(c[1]-b[1], c[0]-b[0]) - np.arctan2(a[1]-b[1], a[0]-b[0])\n",
    "    angle = np.abs(rad*180.0/np.pi)\n",
    "    \n",
    "    if angle > 180.0:\n",
    "        angle = 360 - angle\n",
    "    \n",
    "    return int(angle)"
   ]
  },
  {
   "cell_type": "code",
   "execution_count": 23,
   "id": "d8ded3b3",
   "metadata": {},
   "outputs": [],
   "source": [
    "cap = cv2.VideoCapture(0)\n",
    "\n",
    "counter = 0\n",
    "hand_down = False\n",
    "\n",
    "# create the pose estimation object using model\n",
    "with mp_pose.Pose(min_detection_confidence = 0.5, min_tracking_confidence = 0.5) as pose:\n",
    "    while cap.isOpened():\n",
    "        ret, frame = cap.read()\n",
    "        \n",
    "#         convert image to rbg since opencv processes bgr\n",
    "        image = cv2.cvtColor(frame, cv2.COLOR_BGR2RGB)\n",
    "        image.flags.writeable = False\n",
    "        \n",
    "#         pose estimation model processes image\n",
    "        results = pose.process(image)\n",
    "    \n",
    "#         convert rgb to bgr \n",
    "        image.flags.writeable = True\n",
    "        image = cv2.cvtColor(image, cv2.COLOR_RGB2BGR)\n",
    "    \n",
    "        try:\n",
    "            landmarks = results.pose_landmarks.landmark\n",
    "            \n",
    "            shoulder = [landmarks[mp_pose.PoseLandmark.LEFT_SHOULDER.value].x, \n",
    "                        landmarks[mp_pose.PoseLandmark.LEFT_SHOULDER.value].y,\n",
    "                        landmarks[mp_pose.PoseLandmark.LEFT_SHOULDER.value].z]\n",
    "            elbow = [landmarks[mp_pose.PoseLandmark.LEFT_ELBOW.value].x, \n",
    "                        landmarks[mp_pose.PoseLandmark.LEFT_ELBOW.value].y,\n",
    "                        landmarks[mp_pose.PoseLandmark.LEFT_ELBOW.value].z]\n",
    "            wrist = [landmarks[mp_pose.PoseLandmark.LEFT_WRIST.value].x, \n",
    "                        landmarks[mp_pose.PoseLandmark.LEFT_WRIST.value].y,\n",
    "                        landmarks[mp_pose.PoseLandmark.LEFT_WRIST.value].z]\n",
    "            hip = [landmarks[mp_pose.PoseLandmark.LEFT_HIP.value].x, \n",
    "                        landmarks[mp_pose.PoseLandmark.LEFT_HIP.value].y,\n",
    "                        landmarks[mp_pose.PoseLandmark.LEFT_HIP.value].z]\n",
    "\n",
    "            \n",
    "            elbow_angle = calculate_angles(shoulder, elbow, wrist)\n",
    "            shoulder_angle = calculate_angles(hip, shoulder, elbow)\n",
    "            \n",
    "            \n",
    "            cv2.putText(image, str(elbow_angle),tuple(np.multiply(elbow[:1], [1280,750]).astype(int)),\n",
    "                        cv2.FONT_HERSHEY_SIMPLEX, 0.5, (0,0,0), 2, cv2.LINE_AA)\n",
    "            cv2.putText(image, str(shoulder_angle),tuple(np.multiply(shoulder[:1], [1280,750]).astype(int)),\n",
    "                        cv2.FONT_HERSHEY_SIMPLEX, 0.5, (0,0,0), 2, cv2.LINE_AA)\n",
    "            \n",
    "#             logic for form checker\n",
    "            if shoulder_angle > 20:\n",
    "                cv2.putText(image, \"Bring your elbow closer to your body\" ,tuple([50,700]),\n",
    "                            cv2.FONT_HERSHEY_SIMPLEX, 1, (0,0,0), 2, cv2.LINE_AA)\n",
    "            \n",
    "#             logic for the curl counter\n",
    "            if elbow_angle > 160:\n",
    "                hand_down = True\n",
    "            if elbow_angle < 40 and hand_down == True:\n",
    "                hand_down = False\n",
    "                counter = counter + 1\n",
    "            \n",
    "            cv2.putText(image, \"Count: \" + str(counter) ,tuple([50,50]),\n",
    "                            cv2.FONT_HERSHEY_SIMPLEX, 1, (0,0,0), 2, cv2.LINE_AA)   \n",
    "            \n",
    "        except:\n",
    "            pass\n",
    "        \n",
    "        \n",
    "#         draw out the landmarks and their connections\n",
    "        mp_drawing.draw_landmarks(image, results.pose_landmarks, mp_pose.POSE_CONNECTIONS,\n",
    "                                 mp_drawing.DrawingSpec(color=(51, 170, 255), thickness=2, circle_radius=2),\n",
    "                                 mp_drawing.DrawingSpec(color=(255,191,0), thickness=2, circle_radius=2))\n",
    "        \n",
    "        \n",
    "        cv2.imshow('Mediapipe Feed', image)\n",
    "\n",
    "        if cv2.waitKey(10) & 0xFF == ord('q'):\n",
    "            break\n",
    "    cap.release()\n",
    "    cv2.destroyAllWindows()"
   ]
  },
  {
   "cell_type": "code",
   "execution_count": null,
   "id": "610dc0ad",
   "metadata": {},
   "outputs": [],
   "source": []
  },
  {
   "cell_type": "code",
   "execution_count": null,
   "id": "3bfc5d8f",
   "metadata": {},
   "outputs": [],
   "source": []
  }
 ],
 "metadata": {
  "kernelspec": {
   "display_name": "Python 3 (ipykernel)",
   "language": "python",
   "name": "python3"
  },
  "language_info": {
   "codemirror_mode": {
    "name": "ipython",
    "version": 3
   },
   "file_extension": ".py",
   "mimetype": "text/x-python",
   "name": "python",
   "nbconvert_exporter": "python",
   "pygments_lexer": "ipython3",
   "version": "3.10.4"
  }
 },
 "nbformat": 4,
 "nbformat_minor": 5
}
